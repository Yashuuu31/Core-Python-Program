{
 "cells": [
  {
   "cell_type": "code",
   "execution_count": 1,
   "source": [
    "import numpy as np"
   ],
   "outputs": [],
   "metadata": {}
  },
  {
   "cell_type": "code",
   "execution_count": 2,
   "source": [
    "# Python Init 2D Array Using Numpy\r\n",
    "arr1 = np.array([\r\n",
    "    [1,2,3],\r\n",
    "    [4,5,6],\r\n",
    "    [7,8,9]\r\n",
    "])\r\n",
    "\r\n",
    "print(arr1)"
   ],
   "outputs": [
    {
     "output_type": "stream",
     "name": "stdout",
     "text": [
      "[[1 2 3]\n",
      " [4 5 6]\n",
      " [7 8 9]]\n"
     ]
    }
   ],
   "metadata": {}
  },
  {
   "cell_type": "code",
   "execution_count": 5,
   "source": [
    "# Python Blank Zeros Array Generate\r\n",
    "a1 = np.zeros([3,3])\r\n",
    "print(a1)"
   ],
   "outputs": [
    {
     "output_type": "stream",
     "name": "stdout",
     "text": [
      "[[0. 0. 0.]\n",
      " [0. 0. 0.]\n",
      " [0. 0. 0.]]\n"
     ]
    }
   ],
   "metadata": {}
  },
  {
   "cell_type": "code",
   "execution_count": 13,
   "source": [
    "# Python Ganerate 2D Array With Anay Char Or Number\r\n",
    "a2 = np.full([3,3],3)\r\n",
    "print(a2)"
   ],
   "outputs": [
    {
     "output_type": "stream",
     "name": "stdout",
     "text": [
      "[[3 3 3]\n",
      " [3 3 3]\n",
      " [3 3 3]]\n"
     ]
    }
   ],
   "metadata": {}
  },
  {
   "cell_type": "code",
   "execution_count": 21,
   "source": [
    "# Generate Range Num. Without Gap\r\n",
    "a3 = np.arange(10,20)\r\n",
    "print(a3)"
   ],
   "outputs": [
    {
     "output_type": "stream",
     "name": "stdout",
     "text": [
      "[10 11 12 13 14 15 16 17 18 19]\n"
     ]
    }
   ],
   "metadata": {}
  },
  {
   "cell_type": "code",
   "execution_count": 45,
   "source": [
    "# Ganerate Range Num. With Gap (3 Param is Gap)\r\n",
    "a4 = np.arange(10,50,5)\r\n",
    "print(a4)"
   ],
   "outputs": [
    {
     "output_type": "stream",
     "name": "stdout",
     "text": [
      "[10 15 20 25 30 35 40 45]\n"
     ]
    }
   ],
   "metadata": {}
  },
  {
   "cell_type": "code",
   "execution_count": 48,
   "source": [
    "# Numpy Random Number Generate\r\n",
    "h5 = np.random.randint(100,1000,10)\r\n",
    "print(h5)"
   ],
   "outputs": [
    {
     "output_type": "stream",
     "name": "stdout",
     "text": [
      "[163 256 927 331 550 645 542 306 458 922]\n"
     ]
    }
   ],
   "metadata": {}
  },
  {
   "cell_type": "code",
   "execution_count": 60,
   "source": [
    "# Array Reshape Function\r\n",
    "p1 = np.array([\r\n",
    "    [1,2,3,4,5],\r\n",
    "    [6,7,8,9,10]\r\n",
    "])\r\n",
    "\r\n",
    "p1.shape = (5,2)\r\n",
    "print(p1)"
   ],
   "outputs": [
    {
     "output_type": "stream",
     "name": "stdout",
     "text": [
      "[[ 1  2]\n",
      " [ 3  4]\n",
      " [ 5  6]\n",
      " [ 7  8]\n",
      " [ 9 10]]\n"
     ]
    }
   ],
   "metadata": {}
  },
  {
   "cell_type": "code",
   "execution_count": 66,
   "source": [
    "n1 = np.array([1,2,3])\r\n",
    "n2 = np.array([4,5,6])\r\n",
    "# Array Virtual Stack\r\n",
    "p1 = np.vstack([n1,n2]);\r\n",
    "print(p1)\r\n",
    "print(\"---------------------------\");\r\n",
    "# Array Horizontal Stack\r\n",
    "p2 = np.hstack([n1,n2])\r\n",
    "print(p2)\r\n",
    "print(\"---------------------------\");\r\n",
    "# Array Column Stack\r\n",
    "p3 = np.column_stack([n1,n2])\r\n",
    "print(p3)\r\n",
    "print(\"---------------------------\");"
   ],
   "outputs": [
    {
     "output_type": "stream",
     "name": "stdout",
     "text": [
      "[[1 2 3]\n",
      " [4 5 6]]\n",
      "[1 2 3 4 5 6]\n",
      "[[1 4]\n",
      " [2 5]\n",
      " [3 6]]\n"
     ]
    }
   ],
   "metadata": {}
  }
 ],
 "metadata": {
  "orig_nbformat": 4,
  "language_info": {
   "name": "python",
   "version": "3.9.5",
   "mimetype": "text/x-python",
   "codemirror_mode": {
    "name": "ipython",
    "version": 3
   },
   "pygments_lexer": "ipython3",
   "nbconvert_exporter": "python",
   "file_extension": ".py"
  },
  "kernelspec": {
   "name": "python3",
   "display_name": "Python 3.9.5 64-bit"
  },
  "interpreter": {
   "hash": "066cfde2828ea693d3290fd2b1e8957e085aaccd58830a3396de0101af9dd953"
  }
 },
 "nbformat": 4,
 "nbformat_minor": 2
}