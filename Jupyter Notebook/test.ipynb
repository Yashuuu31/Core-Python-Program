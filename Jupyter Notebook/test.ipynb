{
 "cells": [
  {
   "cell_type": "code",
   "execution_count": 79,
   "source": [
    "import numpy as np"
   ],
   "outputs": [],
   "metadata": {}
  },
  {
   "cell_type": "code",
   "execution_count": 80,
   "source": [
    "# Python Init 2D Array Using Numpy\r\n",
    "arr1 = np.array([\r\n",
    "    [1,2,3],\r\n",
    "    [4,5,6],\r\n",
    "    [7,8,9]\r\n",
    "])\r\n",
    "\r\n",
    "print(arr1)"
   ],
   "outputs": [
    {
     "output_type": "stream",
     "name": "stdout",
     "text": [
      "[[1 2 3]\n",
      " [4 5 6]\n",
      " [7 8 9]]\n"
     ]
    }
   ],
   "metadata": {}
  },
  {
   "cell_type": "code",
   "execution_count": 81,
   "source": [
    "# Python Blank Zeros Array Generate\r\n",
    "a1 = np.zeros([3,3])\r\n",
    "print(a1)"
   ],
   "outputs": [
    {
     "output_type": "stream",
     "name": "stdout",
     "text": [
      "[[0. 0. 0.]\n",
      " [0. 0. 0.]\n",
      " [0. 0. 0.]]\n"
     ]
    }
   ],
   "metadata": {}
  },
  {
   "cell_type": "code",
   "execution_count": 82,
   "source": [
    "# Python Ganerate 2D Array With Anay Char Or Number\r\n",
    "a2 = np.full([3,3],3)\r\n",
    "print(a2)"
   ],
   "outputs": [
    {
     "output_type": "stream",
     "name": "stdout",
     "text": [
      "[[3 3 3]\n",
      " [3 3 3]\n",
      " [3 3 3]]\n"
     ]
    }
   ],
   "metadata": {}
  },
  {
   "cell_type": "code",
   "execution_count": 83,
   "source": [
    "# Generate Range Num. Without Gap\r\n",
    "a3 = np.arange(10,20)\r\n",
    "print(a3)"
   ],
   "outputs": [
    {
     "output_type": "stream",
     "name": "stdout",
     "text": [
      "[10 11 12 13 14 15 16 17 18 19]\n"
     ]
    }
   ],
   "metadata": {}
  },
  {
   "cell_type": "code",
   "execution_count": 84,
   "source": [
    "# Ganerate Range Num. With Gap (3 Param is Gap)\r\n",
    "a4 = np.arange(10,50,5)\r\n",
    "print(a4)"
   ],
   "outputs": [
    {
     "output_type": "stream",
     "name": "stdout",
     "text": [
      "[10 15 20 25 30 35 40 45]\n"
     ]
    }
   ],
   "metadata": {}
  },
  {
   "cell_type": "code",
   "execution_count": 85,
   "source": [
    "# Numpy Random Number Generate\r\n",
    "h5 = np.random.randint(100,1000,10)\r\n",
    "print(h5)"
   ],
   "outputs": [
    {
     "output_type": "stream",
     "name": "stdout",
     "text": [
      "[809 953 372 945 374 800 691 591 490 434]\n"
     ]
    }
   ],
   "metadata": {}
  },
  {
   "cell_type": "code",
   "execution_count": 86,
   "source": [
    "# Array Reshape Function\r\n",
    "p1 = np.array([\r\n",
    "    [1,2,3,4,5],\r\n",
    "    [6,7,8,9,10]\r\n",
    "])\r\n",
    "\r\n",
    "p1.shape = (5,2)\r\n",
    "print(p1)"
   ],
   "outputs": [
    {
     "output_type": "stream",
     "name": "stdout",
     "text": [
      "[[ 1  2]\n",
      " [ 3  4]\n",
      " [ 5  6]\n",
      " [ 7  8]\n",
      " [ 9 10]]\n"
     ]
    }
   ],
   "metadata": {}
  },
  {
   "cell_type": "code",
   "execution_count": 87,
   "source": [
    "n1 = np.array([1,2,3])\r\n",
    "n2 = np.array([4,5,6])\r\n",
    "\r\n",
    "# Array Virtual Stack\r\n",
    "p1 = np.vstack([n1,n2]);\r\n",
    "print(p1)\r\n",
    "print(\"---------------------------\");\r\n",
    "\r\n",
    "# Array Horizontal Stack\r\n",
    "p2 = np.hstack([n1,n2])\r\n",
    "print(p2)\r\n",
    "print(\"---------------------------\");\r\n",
    "\r\n",
    "# Array Column Stack\r\n",
    "p3 = np.column_stack([n1,n2])\r\n",
    "print(p3)\r\n",
    "print(\"---------------------------\");"
   ],
   "outputs": [
    {
     "output_type": "stream",
     "name": "stdout",
     "text": [
      "[[1 2 3]\n",
      " [4 5 6]]\n",
      "---------------------------\n",
      "[1 2 3 4 5 6]\n",
      "---------------------------\n",
      "[[1 4]\n",
      " [2 5]\n",
      " [3 6]]\n",
      "---------------------------\n"
     ]
    }
   ],
   "metadata": {}
  },
  {
   "cell_type": "code",
   "execution_count": 88,
   "source": [
    "# 2 Array Comman Array Value Fun.\r\n",
    "n1 = np.array([1,2,3,6])\r\n",
    "n2 = np.array([1,2,5,6])\r\n",
    "j1 = np.intersect1d(n1,n2)\r\n",
    "print(j1)"
   ],
   "outputs": [
    {
     "output_type": "stream",
     "name": "stdout",
     "text": [
      "[1 2 6]\n"
     ]
    }
   ],
   "metadata": {}
  },
  {
   "cell_type": "code",
   "execution_count": 89,
   "source": [
    "# 2 Array Different Array Value\r\n",
    "n1 = np.array([1,3,56,7])\r\n",
    "n2 = np.array([1,5,7,4])\r\n",
    "p1 = np.setdiff1d(n1,n2)\r\n",
    "print(p1)"
   ],
   "outputs": [
    {
     "output_type": "stream",
     "name": "stdout",
     "text": [
      "[ 3 56]\n"
     ]
    }
   ],
   "metadata": {}
  },
  {
   "cell_type": "code",
   "execution_count": 90,
   "source": [
    "# Array Virticat Sum Fun.\r\n",
    "n1 = np.array([1,2,3])\r\n",
    "n2 = np.array([4,5,6])\r\n",
    "p1 = np.sum([n1,n2], axis=0)\r\n",
    "print(p1)"
   ],
   "outputs": [
    {
     "output_type": "stream",
     "name": "stdout",
     "text": [
      "[5 7 9]\n"
     ]
    }
   ],
   "metadata": {}
  },
  {
   "cell_type": "code",
   "execution_count": 93,
   "source": [
    "# Array Horizontal Sum Fun.\r\n",
    "n1 = np.array([1,2,3])\r\n",
    "n1 = np.array([4,5,6])\r\n",
    "p1 = np.sum([n1,n2], axis=1)\r\n",
    "print(p1)"
   ],
   "outputs": [
    {
     "output_type": "stream",
     "name": "stdout",
     "text": [
      "[15 15]\n"
     ]
    }
   ],
   "metadata": {}
  },
  {
   "cell_type": "code",
   "execution_count": 94,
   "source": [
    "# Summ Of Array Total\r\n",
    "n1 = np.array([1,2,3])\r\n",
    "n2 = np.array([4,5,6])\r\n",
    "p1 = np.sum([n1,n2])\r\n",
    "print(p1)"
   ],
   "outputs": [
    {
     "output_type": "stream",
     "name": "stdout",
     "text": [
      "21\n"
     ]
    }
   ],
   "metadata": {}
  },
  {
   "cell_type": "code",
   "execution_count": 98,
   "source": [
    "# Basic Addition Array Value Number\r\n",
    "n1 = np.array([\r\n",
    "    [1,2,3],\r\n",
    "    [4,5,6],\r\n",
    "])\r\n",
    "n1 = n1 + 1\r\n",
    "print(n1)"
   ],
   "outputs": [
    {
     "output_type": "stream",
     "name": "stdout",
     "text": [
      "[[3 4 5]\n",
      " [6 7 8]]\n"
     ]
    }
   ],
   "metadata": {}
  },
  {
   "cell_type": "code",
   "execution_count": 99,
   "source": [
    "# Basic Subtraction Array Value Number\r\n",
    "n1 = np.array([\r\n",
    "    [1,2,3],\r\n",
    "    [4,5,6]\r\n",
    "])\r\n",
    "n1 = n1 - 1\r\n",
    "print(n1)"
   ],
   "outputs": [
    {
     "output_type": "stream",
     "name": "stdout",
     "text": [
      "[[0 1 2]\n",
      " [3 4 5]]\n"
     ]
    }
   ],
   "metadata": {}
  },
  {
   "cell_type": "code",
   "execution_count": 100,
   "source": [
    "# Basic Multiplication Array Value Number\r\n",
    "n1 = np.array([\r\n",
    "    [1,2,3],\r\n",
    "    [4,5,6]\r\n",
    "])\r\n",
    "n1 = n1 * 2\r\n",
    "print(n1)"
   ],
   "outputs": [
    {
     "output_type": "stream",
     "name": "stdout",
     "text": [
      "[[ 2  4  6]\n",
      " [ 8 10 12]]\n"
     ]
    }
   ],
   "metadata": {}
  },
  {
   "cell_type": "code",
   "execution_count": 102,
   "source": [
    "# Basic Division Array Value Number\r\n",
    "n1 = np.array([\r\n",
    "    [10,20,30],\r\n",
    "    [40,50,60]\r\n",
    "])\r\n",
    "n1 = n1 / 2\r\n",
    "print(n1)"
   ],
   "outputs": [
    {
     "output_type": "stream",
     "name": "stdout",
     "text": [
      "[[ 5. 10. 15.]\n",
      " [20. 25. 30.]]\n"
     ]
    }
   ],
   "metadata": {}
  }
 ],
 "metadata": {
  "orig_nbformat": 4,
  "language_info": {
   "name": "python",
   "version": "3.9.5",
   "mimetype": "text/x-python",
   "codemirror_mode": {
    "name": "ipython",
    "version": 3
   },
   "pygments_lexer": "ipython3",
   "nbconvert_exporter": "python",
   "file_extension": ".py"
  },
  "kernelspec": {
   "name": "python3",
   "display_name": "Python 3.9.5 64-bit"
  },
  "interpreter": {
   "hash": "066cfde2828ea693d3290fd2b1e8957e085aaccd58830a3396de0101af9dd953"
  }
 },
 "nbformat": 4,
 "nbformat_minor": 2
}