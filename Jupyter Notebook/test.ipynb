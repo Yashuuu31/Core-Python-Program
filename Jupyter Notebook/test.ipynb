{
 "cells": [
  {
   "cell_type": "code",
   "execution_count": 1,
   "source": [
    "import numpy as np"
   ],
   "outputs": [],
   "metadata": {}
  },
  {
   "cell_type": "code",
   "execution_count": null,
   "source": [
    "arr1 = np.array([\r\n",
    "    [1,2,3],\r\n",
    "    [4,5,6],\r\n",
    "    [7,8,9]\r\n",
    "])\r\n",
    "\r\n",
    "print(arr1)"
   ],
   "outputs": [],
   "metadata": {}
  }
 ],
 "metadata": {
  "orig_nbformat": 4,
  "language_info": {
   "name": "python",
   "version": "3.9.5",
   "mimetype": "text/x-python",
   "codemirror_mode": {
    "name": "ipython",
    "version": 3
   },
   "pygments_lexer": "ipython3",
   "nbconvert_exporter": "python",
   "file_extension": ".py"
  },
  "kernelspec": {
   "name": "python3",
   "display_name": "Python 3.9.5 64-bit"
  },
  "interpreter": {
   "hash": "066cfde2828ea693d3290fd2b1e8957e085aaccd58830a3396de0101af9dd953"
  }
 },
 "nbformat": 4,
 "nbformat_minor": 2
}